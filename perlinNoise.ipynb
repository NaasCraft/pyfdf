{
 "cells": [
  {
   "cell_type": "code",
   "execution_count": 1,
   "metadata": {
    "collapsed": true
   },
   "outputs": [
    {
     "name": "stdout",
     "output_type": "stream",
     "text": [
      "#!/usr/bin/python3\r\n",
      "\r\n",
      "import json\r\n",
      "import random\r\n",
      "import argparse\r\n",
      "from copy import copy\r\n",
      "from math import sqrt\r\n",
      "\r\n",
      "arg_parser = argparse.ArgumentParser(description='Generator of maps using perlin noise.')\r\n",
      "arg_parser.add_argument('-i', '--side', default=50, help='length of side of map')\r\n",
      "arg_parser.add_argument('-t', '--step', default=20, help='step between each vertex of map')\r\n",
      "arg_parser.add_argument('-o', '--smoothness', default=25., help='smoothness of the map (more is more smooth)')\r\n",
      "arg_parser.add_argument('-e', '--seed', default=None, help='seed for random number generator')\r\n",
      "arg_parser.add_argument('-s', '--sea', default=100, help='sea level of the map')\r\n",
      "arg_parser.add_argument('-m', '--max', default=250, help='maximum of the map')\r\n",
      "args = arg_parser.parse_args()\r\n",
      "\r\n",
      "\r\n",
      "# Yes, I'm writing my own vectors in 2017.\r\n",
      "class Vec2D:\r\n",
      "    def __init__(self, x: float, y: float) -> None:\r\n",
      "        self.x = float(x)\r\n",
      "        self.y = float(y)\r\n",
      "\r\n",
      "    def __mul__(self, other):\r\n",
      "        return (self.x * other.x) + (self.y * other.y)\r\n",
      "\r\n",
      "    def __sub__(self, other):\r\n",
      "        return Vec2D(self.x - other.x, self.y - other.y)\r\n",
      "\r\n",
      "def map_gen(size, res, alt_max, sea, interpolation_fn):\r\n",
      "\r\n",
      "    unit = 1./sqrt(2)\r\n",
      "    gradient = [\r\n",
      "        Vec2D(unit, unit),\r\n",
      "        Vec2D(unit, -unit),\r\n",
      "        Vec2D(-unit, unit),\r\n",
      "        Vec2D(-unit, -unit),\r\n",
      "        Vec2D(0., 1.),\r\n",
      "        Vec2D(0., -1.),\r\n",
      "        Vec2D(1., 0.),\r\n",
      "        Vec2D(-1., 0.)\r\n",
      "    ]\r\n",
      "\r\n",
      "    # construction of a shuffled list of 512 elements distributed from 0-255\r\n",
      "    perms = [i for i in range(256)]\r\n",
      "    random.shuffle(perms)\r\n",
      "    permutable = [perms[i & 255] for i in range(512)]\r\n",
      "    \r\n",
      "    def perlin_noise(x: float, y: float):\r\n",
      "\r\n",
      "        x = float(x / res)\r\n",
      "        y = float(y / res)\r\n",
      "        \r\n",
      "        x0, y0 = int(x), int(y)\r\n",
      "        i, j = x0 & 255, y0 & 255\r\n",
      "\r\n",
      "        grad1 = gradient[permutable[i + permutable[j]] % len(gradient)]\r\n",
      "        grad2 = gradient[permutable[i + permutable[j + 1]] % len(gradient)]\r\n",
      "        grad3 = gradient[permutable[i + 1 + permutable[j]] % len(gradient)]\r\n",
      "        grad4 = gradient[permutable[i + 1 + permutable[j + 1]] % len(gradient)]\r\n",
      "\r\n",
      "        s = grad1 * (Vec2D(x, y) - Vec2D(x0, y0))\r\n",
      "        t = grad4 * (Vec2D(x, y) - Vec2D(x0, y0 + 1))\r\n",
      "        u = grad2 * (Vec2D(x, y) - Vec2D(x0 + 1, y0))\r\n",
      "        v = grad3 * (Vec2D(x, y) - Vec2D(x0 + 1, y0 + 1))\r\n",
      "\r\n",
      "        mantissa_x = x - x0\r\n",
      "        Cx = interpolation_fn(mantissa_x)\r\n",
      "\r\n",
      "        Li1 = s + Cx * (t-s)\r\n",
      "        Li2 = u + Cx * (v-u)\r\n",
      "\r\n",
      "        mantissa_y = y - y0\r\n",
      "        Cy = interpolation_fn(mantissa_y)\r\n",
      "        return Li1 + Cy * (Li2 - Li1)\r\n",
      "\r\n",
      "    ret = []\r\n",
      "    for i in range(size):\r\n",
      "        for j in range(size):\r\n",
      "            #fixme: without the multiplication by 5/7, interval seems to be [-1.3337, 1.3337] instead of [-1, 1]\r\n",
      "            p = ((perlin_noise(i + 0.5, j + 0.5) * 5./7.) + 1) * 0.5 * (alt_max)\r\n",
      "            p = int(p) - sea\r\n",
      "            if p < 0:\r\n",
      "                p = 0\r\n",
      "            ret.append(p)\r\n",
      "    return ret\r\n",
      "            \r\n",
      "def main(args):\r\n",
      "    \r\n",
      "    side = args.side\r\n",
      "    step = args.step\r\n",
      "    seed = args.seed\r\n",
      "    smooth = args.smoothness\r\n",
      "    sea = args.sea\r\n",
      "    alt_max = args.max\r\n",
      "\r\n",
      "    if seed is not None:\r\n",
      "        random.seed(seed)\r\n",
      "\r\n",
      "    dict_file = {\r\n",
      "        'side': side,\r\n",
      "        'step': step\r\n",
      "    }\r\n",
      "    dict_file['heightmap'] = map_gen(side,\r\n",
      "                                     smooth,\r\n",
      "                                     alt_max,\r\n",
      "                                     sea,\r\n",
      "                                     lambda x: (3 * (x ** 2)) - (2 * (x ** 3)))\r\n",
      "    json_file = json.dumps(dict_file)\r\n",
      "    print(json_file)\r\n",
      "\r\n",
      "if __name__ == '__main__':\r\n",
      "    main(args)\r\n",
      "    \r\n"
     ]
    }
   ],
   "source": [
    "%cat map_generator.py"
   ]
  },
  {
   "cell_type": "markdown",
   "metadata": {},
   "source": [
    "```python\n",
    "# Yes, I'm writing my own vectors in 2017.\n",
    "class Vec2D:\n",
    "    ...\n",
    "\n",
    "```\n",
    "\n",
    "No you don't :p"
   ]
  },
  {
   "cell_type": "code",
   "execution_count": 4,
   "metadata": {
    "collapsed": true
   },
   "outputs": [],
   "source": [
    "import numpy as np"
   ]
  },
  {
   "cell_type": "markdown",
   "metadata": {},
   "source": [
    "```python\n",
    "gradient = [\n",
    "        Vec2D(unit, unit),\n",
    "        Vec2D(unit, -unit),\n",
    "        Vec2...\n",
    "```\n",
    "\n",
    "Why so few possible gradients ?\n",
    "\n",
    "```python\n",
    "# construction of a shuffled list of 512 elements distributed from 0-255\n",
    "    perms = [i for i in range(256)]\n",
    "    random.shuffle(perms)\n",
    "    permutable = [perms[i & 255] for i in range(512)]\n",
    "```\n",
    "\n",
    "Meh, that's just twice a permutation of [[0, 255]]...\n",
    "\n",
    "Time to sleep !\n",
    "\n",
    "---\n",
    "\n",
    "Let me try :\n",
    "\n",
    "First, let's define the map and its grid."
   ]
  },
  {
   "cell_type": "code",
   "execution_count": 5,
   "metadata": {},
   "outputs": [],
   "source": [
    "n = 2 #size (both width and height) of the grid\n",
    "m = 64 #size of each subarray\n",
    "N = n*m #size of the final map\n",
    "\n",
    "grid = np.zeros((n+1, n+1, 2), dtype=np.float32)\n",
    "    #we need n+1 to get the border nodes\n",
    "    #third dimension is used to store gradient vectors\n",
    "\n",
    "final_grid = np.zeros((N, N), dtype=np.float32)"
   ]
  },
  {
   "cell_type": "markdown",
   "metadata": {},
   "source": [
    "Now, we want random vectors uniformly sampled on the unit circle. That's trivial with an angle (draw uniformly $\\theta$ in $[0, 2\\pi]$), but let's try a method that works in any $d$-dimensional space :\n",
    "\n",
    "+ First we draw a uniform sample in the unit cube (simply draw each coordinate in [-1, 1])\n",
    "+ Then we trim samples outside the unit ball (defined by euclidean norm)\n",
    "+ Finally, we can project the results onto the unit sphere\n",
    "\n",
    "A minor drawback : the obtained sample has not a deterministic size"
   ]
  },
  {
   "cell_type": "code",
   "execution_count": 6,
   "metadata": {},
   "outputs": [],
   "source": [
    "#in our case :\n",
    "d = 2\n",
    "\n",
    "#let's generate a bit too much\n",
    "cube_bag = np.random.uniform(\n",
    "    low = -1.,\n",
    "    high = 1.,\n",
    "    size = (4*(n+1)**2, d) #4 times the necessary amount\n",
    ")"
   ]
  },
  {
   "cell_type": "code",
   "execution_count": 7,
   "metadata": {},
   "outputs": [
    {
     "data": {
      "text/plain": [
       "(36, 2)"
      ]
     },
     "execution_count": 7,
     "metadata": {},
     "output_type": "execute_result"
    }
   ],
   "source": [
    "cube_bag.shape"
   ]
  },
  {
   "cell_type": "code",
   "execution_count": 8,
   "metadata": {
    "collapsed": true
   },
   "outputs": [],
   "source": [
    "#remove extra-spherical points\n",
    "keepFilter = (np.linalg.norm(cube_bag, axis=1) <= 1.)\n",
    "ball_bag = cube_bag[keepFilter]"
   ]
  },
  {
   "cell_type": "code",
   "execution_count": 9,
   "metadata": {},
   "outputs": [
    {
     "data": {
      "text/plain": [
       "(27, 2)"
      ]
     },
     "execution_count": 9,
     "metadata": {},
     "output_type": "execute_result"
    }
   ],
   "source": [
    "ball_bag.shape"
   ]
  },
  {
   "cell_type": "code",
   "execution_count": 10,
   "metadata": {
    "collapsed": true
   },
   "outputs": [],
   "source": [
    "#project onto the sphere\n",
    "norms = np.linalg.norm(ball_bag, axis=1)\n",
    "sphere_bag = (ball_bag.T / norms).T"
   ]
  },
  {
   "cell_type": "code",
   "execution_count": 11,
   "metadata": {},
   "outputs": [
    {
     "data": {
      "text/plain": [
       "(27, 2)"
      ]
     },
     "execution_count": 11,
     "metadata": {},
     "output_type": "execute_result"
    }
   ],
   "source": [
    "sphere_bag.shape"
   ]
  },
  {
   "cell_type": "code",
   "execution_count": 12,
   "metadata": {
    "collapsed": true
   },
   "outputs": [],
   "source": [
    "#sample our desired gradients from this bag\n",
    "keepIdx = np.random.choice(\n",
    "    sphere_bag.shape[0],\n",
    "    size = (n+1)**2, \n",
    "    replace = False\n",
    ")\n",
    "\n",
    "gradients = sphere_bag[keepIdx]"
   ]
  },
  {
   "cell_type": "code",
   "execution_count": 13,
   "metadata": {},
   "outputs": [
    {
     "data": {
      "text/plain": [
       "(9, 2)"
      ]
     },
     "execution_count": 13,
     "metadata": {},
     "output_type": "execute_result"
    }
   ],
   "source": [
    "gradients.shape"
   ]
  },
  {
   "cell_type": "code",
   "execution_count": 14,
   "metadata": {
    "collapsed": true
   },
   "outputs": [],
   "source": [
    "#instead of filling `grid` we can replace it\n",
    "grid = gradients.reshape((n+1,n+1,2))"
   ]
  },
  {
   "cell_type": "code",
   "execution_count": 15,
   "metadata": {},
   "outputs": [
    {
     "data": {
      "text/plain": [
       "(3, 3, 2)"
      ]
     },
     "execution_count": 15,
     "metadata": {},
     "output_type": "execute_result"
    }
   ],
   "source": [
    "grid.shape"
   ]
  },
  {
   "cell_type": "markdown",
   "metadata": {},
   "source": [
    "Okay so now we've got our gradients. Rest of your code was good :)"
   ]
  },
  {
   "cell_type": "code",
   "execution_count": 16,
   "metadata": {
    "collapsed": true
   },
   "outputs": [],
   "source": [
    "from numpy.linalg import norm\n",
    "\n",
    "def normalize(v):\n",
    "    vnorm = norm(v)\n",
    "    if vnorm == 0:\n",
    "        return v\n",
    "    return v / vnorm\n",
    "\n",
    "interpolation_fn = lambda x: (3 * (x ** 2)) - (2 * (x ** 3))\n",
    "\n",
    "def perlin_noise(x: int, y: int):\n",
    "    \n",
    "    ix0, iy0 = x // m, y // m\n",
    "    x0, y0 = ix0 * m, iy0 * m\n",
    "\n",
    "    dist_s = np.array([x - x0, y - y0])\n",
    "    dist_t = np.array([x - x0 - m, y - y0])\n",
    "    dist_u = np.array([x - x0, y - y0 - m])\n",
    "    dist_v = np.array([x - x0 - m, y - y0 - m])\n",
    "    \n",
    "    s = grid[ix0, iy0].dot(normalize(dist_s))\n",
    "    t = grid[ix0 + 1, iy0].dot(normalize(dist_t))\n",
    "    u = grid[ix0, iy0 + 1].dot(normalize(dist_u))\n",
    "    v = grid[ix0 + 1, iy0 + 1].dot(normalize(dist_v))\n",
    "\n",
    "    mantissa_x = (x - x0) / m\n",
    "    Cx = interpolation_fn(mantissa_x)\n",
    "\n",
    "    Li1 = s + Cx * (t-s)\n",
    "    Li2 = u + Cx * (v-u)\n",
    "\n",
    "    mantissa_y = (y - y0) / m\n",
    "    Cy = interpolation_fn(mantissa_y)\n",
    "    return Li1 + Cy * (Li2 - Li1)"
   ]
  },
  {
   "cell_type": "code",
   "execution_count": 17,
   "metadata": {
    "collapsed": true
   },
   "outputs": [],
   "source": [
    "for i in range(final_grid.shape[0]):\n",
    "    for j in range(final_grid.shape[1]):\n",
    "        \n",
    "        final_grid[i,j] = perlin_noise(i,j)"
   ]
  },
  {
   "cell_type": "code",
   "execution_count": 18,
   "metadata": {},
   "outputs": [
    {
     "data": {
      "image/png": "[encoded data removed]",
      "text/plain": [
       "<matplotlib.figure.Figure at 0x7f1ca84b0358>"
      ]
     },
     "metadata": {},
     "output_type": "display_data"
    }
   ],
   "source": [
    "%matplotlib inline\n",
    "import matplotlib.pyplot as plt\n",
    "plt.rcParams['figure.figsize'] = [12.,8.]\n",
    "\n",
    "plt.imshow(final_grid, cmap='gray');"
   ]
  },
  {
   "cell_type": "code",
   "execution_count": 239,
   "metadata": {},
   "outputs": [
    {
     "data": {
      "text/plain": [
       "0.99997288"
      ]
     },
     "execution_count": 239,
     "metadata": {},
     "output_type": "execute_result"
    }
   ],
   "source": [
    "final_grid.max()"
   ]
  },
  {
   "cell_type": "code",
   "execution_count": 240,
   "metadata": {},
   "outputs": [
    {
     "data": {
      "text/plain": [
       "-0.99992061"
      ]
     },
     "execution_count": 240,
     "metadata": {},
     "output_type": "execute_result"
    }
   ],
   "source": [
    "final_grid.min()"
   ]
  },
  {
   "cell_type": "markdown",
   "metadata": {},
   "source": [
    "Actually, its not working as I'd expected. Are gradients still bugged ?"
   ]
  }
 ],
 "metadata": {
  "kernelspec": {
   "display_name": "Python 3",
   "language": "python",
   "name": "python3"
  },
  "language_info": {
   "codemirror_mode": {
    "name": "ipython",
    "version": 3
   },
   "file_extension": ".py",
   "mimetype": "text/x-python",
   "name": "python",
   "nbconvert_exporter": "python",
   "pygments_lexer": "ipython3",
   "version": "3.6.0"
  }
 },
 "nbformat": 4,
 "nbformat_minor": 2
}
